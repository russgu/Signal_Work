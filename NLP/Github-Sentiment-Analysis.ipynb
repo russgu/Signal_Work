{
 "cells": [
  {
   "cell_type": "code",
   "execution_count": 1,
   "metadata": {
    "collapsed": false
   },
   "outputs": [],
   "source": [
    "import urllib.request as req\n",
    "import json\n",
    "import csv\n",
    "import datetime"
   ]
  },
  {
   "cell_type": "code",
   "execution_count": 4,
   "metadata": {
    "collapsed": true
   },
   "outputs": [],
   "source": [
    "baseurl = \"https://api.github.com/repos/%s/%s/issues/%s/comments?page=%s\"\n",
    "\n",
    "owner = \"torvalds\"\n",
    "repo = \"linux\"\n",
    "issue = 17\n",
    "pages = [1, 2, 3, 4]\n",
    "\n",
    "def get_comments_page(owner, repo, issue, page):\n",
    "    issue = str(issue)\n",
    "    page = str(page)\n",
    "    return req.urlopen(\n",
    "        baseurl % (owner, repo, issue, page)\n",
    "    )"
   ]
  },
  {
   "cell_type": "code",
   "execution_count": 5,
   "metadata": {
    "collapsed": false
   },
   "outputs": [],
   "source": [
    "# Fetch data\n",
    "response = []\n",
    "for p in pages:\n",
    "    page = get_comments_page(owner, repo, issue, p)\n",
    "    response.append(page.read())"
   ]
  },
  {
   "cell_type": "code",
   "execution_count": 6,
   "metadata": {
    "collapsed": false
   },
   "outputs": [],
   "source": [
    "response = [json.loads(response[i].decode('utf-8')) for i in range(len(response))]"
   ]
  },
  {
   "cell_type": "code",
   "execution_count": 8,
   "metadata": {
    "collapsed": false
   },
   "outputs": [],
   "source": [
    "cutoff_date = datetime.datetime.strptime(\"2012-05-13\", \"%Y-%m-%d\")\n",
    "\n",
    "csv_str = \"\"\n",
    "for page in response:\n",
    "    for el in page:\n",
    "        datestr = el['created_at']\n",
    "        dt = datetime.datetime.strptime(datestr, \"%Y-%m-%dT%H:%M:%SZ\")\n",
    "        if dt < cutoff_date:\n",
    "            login = el['user']['login']\n",
    "            body = el['body'].replace(\"\\n\", \" \").replace(\"\\r\", \" \")\n",
    "            csv_str+=login+\"\\t\"+body+\"\\n\"\n",
    "\n",
    "with open(\"github-comments.csv\", \"w\") as csvfile:\n",
    "    csvfile.write(csv_str)"
   ]
  },
  {
   "cell_type": "code",
   "execution_count": 9,
   "metadata": {
    "collapsed": false
   },
   "outputs": [],
   "source": [
    "csv.register_dialect(\n",
    "    'github-dialect',\n",
    "    delimiter=\"\\t\",\n",
    "    quoting=csv.QUOTE_NONE)\n",
    "with open(\"github-comments.csv\", \"r\") as f:\n",
    "    data = csv.reader(f, 'github-dialect')\n",
    "    comments = [row for row in data]"
   ]
  },
  {
   "cell_type": "code",
   "execution_count": null,
   "metadata": {
    "collapsed": true
   },
   "outputs": [],
   "source": []
  }
 ],
 "metadata": {
  "kernelspec": {
   "display_name": "Python [Root]",
   "language": "python",
   "name": "Python [Root]"
  },
  "language_info": {
   "codemirror_mode": {
    "name": "ipython",
    "version": 3
   },
   "file_extension": ".py",
   "mimetype": "text/x-python",
   "name": "python",
   "nbconvert_exporter": "python",
   "pygments_lexer": "ipython3",
   "version": "3.5.2"
  }
 },
 "nbformat": 4,
 "nbformat_minor": 0
}
